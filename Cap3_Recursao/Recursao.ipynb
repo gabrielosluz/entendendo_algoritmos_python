{
 "cells": [
  {
   "cell_type": "markdown",
   "metadata": {},
   "source": [
    "# Recursão"
   ]
  },
  {
   "cell_type": "markdown",
   "metadata": {},
   "source": [
    "Situação: achar uma mala em uma caixa com varias sub caixas dentro de uma principal. Algoritmo para encontra encontrar a chave. "
   ]
  },
  {
   "cell_type": "markdown",
   "metadata": {},
   "source": [
    "Abordagem 1: Montar uma pilha com as caixas que serão analisadas. Pegar uma caixa e olhar o que tem dentro. Se encontrar outra caixa, coloca-la dentro de um novo monte para ser verificada depois. Se encontrar a chave terminou. Essa abordagem usa o loop while. Pseudocode:"
   ]
  },
  {
   "cell_type": "code",
   "execution_count": 2,
   "metadata": {},
   "outputs": [],
   "source": [
    "def procure_pela_caixa(caixa_principal):\n",
    "    pilha = main_box.crie_uma_pilha_para_busca()\n",
    "    while pilha is not vazia:\n",
    "        caixa = pilha.pegue_caixa()\n",
    "        for item in caixa:\n",
    "            if item.e_uma_caixa():\n",
    "                pilha.append(item)\n",
    "            elif item.e_uma_chave():\n",
    "                print(\"achei a chave!\")"
   ]
  },
  {
   "cell_type": "markdown",
   "metadata": {},
   "source": [
    "Abordagem 2: Usando recursao. Olha o que tem dentro da caixa. Se encontrar outra caixa, volte ao passo 1. Se encontrar a chave, terminou. Perceba que a função chama a si mesma Pseucode."
   ]
  },
  {
   "cell_type": "code",
   "execution_count": 3,
   "metadata": {},
   "outputs": [],
   "source": [
    "def procure_pela_caixa(caixa):\n",
    "    for item in caixa:\n",
    "        if item_e_uma_caixa():\n",
    "            procure_pela_chave(item)\n",
    "        elif item.e_uma_chave():\n",
    "            print(\"achei a chave!\")"
   ]
  },
  {
   "cell_type": "markdown",
   "metadata": {},
   "source": [
    "Importante destacar que não ha beneficio em termos de desempenho ao usar recursao. Frase de Leigh Caldwell, do Stack Overflow: \"Os loops podem melhorar o desempenho do programa. A recursao melhora o desempenho do programador. Escolha o que for mais importante para a situacao\""
   ]
  },
  {
   "cell_type": "markdown",
   "metadata": {},
   "source": [
    "### Caso base recursivo"
   ]
  },
  {
   "cell_type": "markdown",
   "metadata": {},
   "source": [
    "Ter bastante atenção, pois como a função chama a si mesma, é relativamente facil acabar criando um loop infinito. Quando se escreve uma função recursiva deve informar uma condição de parada. Por isso, a função recursiva tem duas partes: o caso base e o caso recursivo. "
   ]
  },
  {
   "cell_type": "markdown",
   "metadata": {},
   "source": [
    "- Caso recursivo é quando a função chama a si mesma."
   ]
  },
  {
   "cell_type": "markdown",
   "metadata": {},
   "source": [
    "- O caso base é quando a função não chama a si mesma novamente, de forma que o programa não se torna um loop infinito."
   ]
  },
  {
   "cell_type": "markdown",
   "metadata": {},
   "source": [
    "Situação: função que imprima uma contagem regressiva:"
   ]
  },
  {
   "cell_type": "code",
   "execution_count": 5,
   "metadata": {},
   "outputs": [],
   "source": [
    "def regressiva(i):\n",
    "    print(i)\n",
    "    if(i <= 1) : # CASO BASE\n",
    "        return\n",
    "    else:        # CASO RECURSIVO\n",
    "        regressiva(i-1)"
   ]
  },
  {
   "cell_type": "markdown",
   "metadata": {},
   "source": [
    "### Pilha"
   ]
  },
  {
   "cell_type": "markdown",
   "metadata": {},
   "source": [
    "Pilha de chamada - call stack. Duas operações: push (inserir) e pop (remover e ler). Quando voce insere um item, ele é colocado no topo da pilha. Quando voce le um item, le apenas o item do topo da pilha e ele é retirado da lista. A pilha é uma estrutura de dados simples"
   ]
  },
  {
   "cell_type": "markdown",
   "metadata": {},
   "source": [
    "### A pilha de chamada"
   ]
  },
  {
   "cell_type": "markdown",
   "metadata": {},
   "source": [
    "Seu computador usa uma pilha interna denominada pilha de chamada. Exemplo simples:"
   ]
  },
  {
   "cell_type": "code",
   "execution_count": 7,
   "metadata": {},
   "outputs": [],
   "source": [
    "def sauda(nome):\n",
    "    print(\"Ola\"+ nome + \"!\")\n",
    "    sauda2(nome)\n",
    "    print(\"Preparando para dizer tchau...\")\n",
    "    tchau()\n",
    "\n",
    "#Essa função te cumprimenta e chama outras duas funções:\n",
    "\n",
    "def sauda2(nome):\n",
    "    print(\"Como vai\" + nome + \"?\")\n",
    "\n",
    "def tchau():\n",
    "    print(\"ok,tchau\")\n",
    "    "
   ]
  },
  {
   "cell_type": "markdown",
   "metadata": {},
   "source": [
    "Suponha que voce chame a função sauda(\"Magie\"). Primeiro o seu computador aloca uma caixa de memoria para essa chamada. Agora vamos usar essa memoria. A variavel \"nome\" é setada para \"Maggie\". Cade vez que voce faz uma chamada de função, seu computador salva na memoria os valores para todas as varaveis. Depis disso, imprime \"ola, maggie!\". Então, chama sauda2(\"maggie\"). Novamente o computador aloca uma caixa de memoria para essa chamada de função."
   ]
  },
  {
   "cell_type": "markdown",
   "metadata": {},
   "source": [
    "O computador esta uma pilha para estas caixas. A segunda é adicionada em cima da primeira. Voce imprime \"como vai maggie?\". Então retorna da chamada de função. Quando isso acontece, a caixa do topo da pilha é retirada. "
   ]
  },
  {
   "cell_type": "markdown",
   "metadata": {},
   "source": [
    "Agora, a caiza do topo da pilha aloca os valores da função sauda, o que significa que voce retornou a função sauda. Quando voce chamou a função sauda2, a função sauda ficou parcialmente completa. Esta é a grande ideia por tras do conceito dessa seção: quando voce chama uma funcao a partir de outra, a chamada de funcao fucao pausada em um estado parcialmente completo. Todos os valores das variaveis para aquela função ainda estão estão armazenados na memoria. Agora que voce ja utilizou a função sauda2, voce esta de volta na função sauda e pode cotinuar de onde parou. Primeiro imprime a frase \"preparando para fizer tchau\" e então chama a função tchau."
   ]
  },
  {
   "cell_type": "markdown",
   "metadata": {},
   "source": [
    "Uma caixa para esta função é adicionada ao topo da pilha. Quando voce imrpime \"ok, tchau!\", retornara da chamada da função. Agora esta de volta a função sauda. Não ha nada mais a ser feito e voce pode sair da função sauda tambem. Essa pilha usada para guardar as variaveis de multiplas funções é denominada de pilha de chamda."
   ]
  },
  {
   "cell_type": "markdown",
   "metadata": {},
   "source": [
    "### A pilha de chamada com recursao"
   ]
  },
  {
   "cell_type": "markdown",
   "metadata": {},
   "source": [
    "As funções recursivas tambem utilizazm a pilha de chamada. Um exemplo disso é a função fatorial. Exemplificada a seguir:"
   ]
  },
  {
   "cell_type": "code",
   "execution_count": 8,
   "metadata": {},
   "outputs": [],
   "source": [
    "def fat(x):\n",
    "    if(x == 1):\n",
    "        return 1\n",
    "    else:\n",
    "        return x*fat(x-1)"
   ]
  },
  {
   "cell_type": "markdown",
   "metadata": {},
   "source": [
    "Usar pilha é bom porem existe um custo: salvar toda essa informação pode ocupar muita memoria. Cada uma das funções de chamada ocupada um pouco de memoria e quando sua pilha esta ficando muito cheia é sinal de que seu computadoresta salvando informação para muitas chamadas de funções. Para esta situação, voce tem daus opções"
   ]
  },
  {
   "cell_type": "markdown",
   "metadata": {},
   "source": [
    "- Reescrever o codigo usando loops."
   ]
  },
  {
   "cell_type": "markdown",
   "metadata": {},
   "source": [
    "- Utilizar o que chamamos de \"tail recursion\" (recursao de cauda). Isso é um conceito avançado em recursão e está fora do escopo deste livro. Esta tecnica tambem não é suportada por todas as linguagens de programação."
   ]
  }
 ],
 "metadata": {
  "kernelspec": {
   "display_name": "Python 3",
   "language": "python",
   "name": "python3"
  },
  "language_info": {
   "codemirror_mode": {
    "name": "ipython",
    "version": 3
   },
   "file_extension": ".py",
   "mimetype": "text/x-python",
   "name": "python",
   "nbconvert_exporter": "python",
   "pygments_lexer": "ipython3",
   "version": "3.7.4"
  }
 },
 "nbformat": 4,
 "nbformat_minor": 2
}
