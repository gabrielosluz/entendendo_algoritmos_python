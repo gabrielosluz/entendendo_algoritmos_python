{
 "cells": [
  {
   "cell_type": "markdown",
   "metadata": {},
   "source": [
    "# Algoritmos Gulosos"
   ]
  },
  {
   "cell_type": "markdown",
   "metadata": {},
   "source": [
    "Neste capitulo aprenderemos a lidar com problemas que não possuem um algoritmo de solução rapida (Problemas NP-Complexo)."
   ]
  },
  {
   "cell_type": "markdown",
   "metadata": {},
   "source": [
    "Algoritmos gulosos: a cada etapa deve-se escolher o movimento ideal. Ou seja, a cada etapa, escolhe-se a solução ideal e no fim, voce tem uma solução global ideal. "
   ]
  },
  {
   "cell_type": "markdown",
   "metadata": {},
   "source": [
    "Quando é necessário muito tempo para calcular uma solução exata, um algoritmo de aproximação é uma boa. Esses algoritmos são avaliados por:\n",
    "- Rapidez\n",
    "- Por sua sua capacidade de chegar a uma solução ideal.\n",
    "\n",
    "Exemplo:"
   ]
  },
  {
   "cell_type": "code",
   "execution_count": 2,
   "metadata": {},
   "outputs": [
    {
     "data": {
      "text/plain": [
       "{'az', 'ca', 'id', 'mt', 'nv', 'or', 'ut', 'wa'}"
      ]
     },
     "execution_count": 2,
     "metadata": {},
     "output_type": "execute_result"
    }
   ],
   "source": [
    "estados_abranger = set([\"mt\",\"wa\",\"or\",\"id\",\"nv\",\"ut\",\"ca\",\"az\"]) #Conjuntos não podem ter elementos duplicados\n",
    "estados_abranger"
   ]
  },
  {
   "cell_type": "code",
   "execution_count": 12,
   "metadata": {},
   "outputs": [
    {
     "data": {
      "text/plain": [
       "{'kum': {'id', 'nv', 'ut'},\n",
       " 'kdois': {'id', 'mt', 'wa'},\n",
       " 'ktres': {'ca', 'nv', 'or'},\n",
       " 'kquadro': {'nv', 'ut'},\n",
       " 'kcinco': {'az', 'ca'}}"
      ]
     },
     "execution_count": 12,
     "metadata": {},
     "output_type": "execute_result"
    }
   ],
   "source": [
    "estacoes = {}\n",
    "estacoes[\"kum\"] = set([\"id\", \"nv\", \"ut\"])\n",
    "estacoes[\"kdois\"] = set([\"wa\", \"id\", \"mt\"])\n",
    "estacoes[\"ktres\"] = set([\"or\", \"nv\", \"ca\"])\n",
    "estacoes[\"kquadro\"] = set([\"nv\", \"ut\"])\n",
    "estacoes[\"kcinco\"] = set([\"ca\", \"az\"])\n",
    "\n",
    "estacoes_finais = set()\n",
    "\n",
    "estacoes"
   ]
  },
  {
   "cell_type": "code",
   "execution_count": 13,
   "metadata": {},
   "outputs": [
    {
     "name": "stdout",
     "output_type": "stream",
     "text": [
      "{'ktres', 'kdois', 'kcinco'}\n"
     ]
    }
   ],
   "source": [
    "while estados_abranger:\n",
    "    melhor_estacao = None\n",
    "    estados_cobertos = set()\n",
    "    for estacao, estados_por_estacao in estacoes.items():\n",
    "        cobertos = estados_abranger & estados_por_estacao\n",
    "        if (len(cobertos) > len(estados_cobertos)):\n",
    "            melhor_estacao = estacao\n",
    "            estados_cobertos = cobertos\n",
    "    estados_abranger -= estados_cobertos\n",
    "    estacoes_finais.add(melhor_estacao)\n",
    "    \n",
    "print(estacoes_finais)"
   ]
  },
  {
   "cell_type": "markdown",
   "metadata": {},
   "source": [
    "O algoritmo de Dijkstra é do tipo guloso."
   ]
  },
  {
   "cell_type": "markdown",
   "metadata": {},
   "source": [
    "## Problemas NP-completos"
   ]
  },
  {
   "cell_type": "markdown",
   "metadata": {},
   "source": [
    "Não há um maneira facil para saber se um problema é NP-completo. Mas existem alguns indicativos:\n",
    "\n",
    "- Seu algoritmo roda rapido para alguns itens mas fica muito lento com o aumento de itens. \n",
    "\n",
    "- \"Todas as combinações de X\" geralmente significam um problema NP-completo. \n",
    "\n",
    "- Voce tem que calcular \"cadapossivel versão\" de X porque não pode dividir em subproblemas menores? Talvez seja um problema NO-completo.\n",
    "\n",
    "- Se o seu problema envolve uma sequencia (como um sequencia de cidades, como o problema do caixeiro viajante) e é dificil de resolver, pode ser um NP-completo.\n",
    "\n",
    "- Se o problema envolve um conjunto (como um conjunto de estações de radio) e é dificil de resolver, ele pode ser um problema NP-completo. \n",
    "\n",
    "- Voce pode reescrever o seu problema de cobertura minima de conjuntos ou o problema do caixeiro-viajante? Então o seu problema definitivamente é NP-completo."
   ]
  },
  {
   "cell_type": "markdown",
   "metadata": {},
   "source": [
    "## Recapitulando"
   ]
  },
  {
   "cell_type": "markdown",
   "metadata": {},
   "source": [
    "- Algoritmos gulosos otimizam localmente na esperança de acabar em uma otimização global. \n",
    "\n",
    "- Problemas NP-completo não tem solução rapida. \n",
    "\n",
    "- Se voce estiver tentando resolver um algoritmo NP-completo, o melhor a se fazer é usar um algoritmo de aproximação.\n",
    "\n",
    "- Algoritmos gulosos são faceis de escrever e tem tempo de execução baixo, portanto eles são bons algoritmps de aproximação."
   ]
  }
 ],
 "metadata": {
  "kernelspec": {
   "display_name": "Python 3",
   "language": "python",
   "name": "python3"
  },
  "language_info": {
   "codemirror_mode": {
    "name": "ipython",
    "version": 3
   },
   "file_extension": ".py",
   "mimetype": "text/x-python",
   "name": "python",
   "nbconvert_exporter": "python",
   "pygments_lexer": "ipython3",
   "version": "3.8.5"
  }
 },
 "nbformat": 4,
 "nbformat_minor": 4
}
