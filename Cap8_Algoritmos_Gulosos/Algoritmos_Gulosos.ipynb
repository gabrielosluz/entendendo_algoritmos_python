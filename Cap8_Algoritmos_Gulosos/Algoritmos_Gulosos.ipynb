{
 "cells": [
  {
   "cell_type": "markdown",
   "metadata": {},
   "source": [
    "# Algoritmos Gulosos"
   ]
  },
  {
   "cell_type": "markdown",
   "metadata": {},
   "source": [
    "Neste capitulo aprenderemos a lidar com problemas que não possuem um algoritmo de solução rapida (Problemas NP-Complexo)."
   ]
  },
  {
   "cell_type": "markdown",
   "metadata": {},
   "source": [
    "Algoritmos gulosos: a cada etapa deve-se escolher o movimento ideal. Ou seja, a cada etapa, escolhe-se a solução ideal e no fim, voce tem uma solução global ideal. "
   ]
  },
  {
   "cell_type": "markdown",
   "metadata": {},
   "source": [
    "Quando é necessário muito tempo para calcular uma solução exata, um algoritmo de aproximação é uma boa. Esses algoritmos são avaliados por:\n",
    "- Rapidez\n",
    "- Por sua sua capacidade de chegar a uma solução ideal.\n",
    "\n",
    "Exemplo:"
   ]
  },
  {
   "cell_type": "code",
   "execution_count": 2,
   "metadata": {},
   "outputs": [
    {
     "data": {
      "text/plain": [
       "{'az', 'ca', 'id', 'mt', 'nv', 'or', 'ut', 'wa'}"
      ]
     },
     "execution_count": 2,
     "metadata": {},
     "output_type": "execute_result"
    }
   ],
   "source": [
    "estados_abranger = set([\"mt\",\"wa\",\"or\",\"id\",\"nv\",\"ut\",\"ca\",\"az\"]) #Conjuntos não podem ter elementos duplicados\n",
    "estados_abranger"
   ]
  },
  {
   "cell_type": "code",
   "execution_count": 12,
   "metadata": {},
   "outputs": [
    {
     "data": {
      "text/plain": [
       "{'kum': {'id', 'nv', 'ut'},\n",
       " 'kdois': {'id', 'mt', 'wa'},\n",
       " 'ktres': {'ca', 'nv', 'or'},\n",
       " 'kquadro': {'nv', 'ut'},\n",
       " 'kcinco': {'az', 'ca'}}"
      ]
     },
     "execution_count": 12,
     "metadata": {},
     "output_type": "execute_result"
    }
   ],
   "source": [
    "estacoes = {}\n",
    "estacoes[\"kum\"] = set([\"id\", \"nv\", \"ut\"])\n",
    "estacoes[\"kdois\"] = set([\"wa\", \"id\", \"mt\"])\n",
    "estacoes[\"ktres\"] = set([\"or\", \"nv\", \"ca\"])\n",
    "estacoes[\"kquadro\"] = set([\"nv\", \"ut\"])\n",
    "estacoes[\"kcinco\"] = set([\"ca\", \"az\"])\n",
    "\n",
    "estacoes_finais = set()\n",
    "\n",
    "estacoes"
   ]
  },
  {
   "cell_type": "code",
   "execution_count": 13,
   "metadata": {},
   "outputs": [
    {
     "name": "stdout",
     "output_type": "stream",
     "text": [
      "{'ktres', 'kdois', 'kcinco'}\n"
     ]
    }
   ],
   "source": [
    "while estados_abranger:\n",
    "    melhor_estacao = None\n",
    "    estados_cobertos = set()\n",
    "    for estacao, estados_por_estacao in estacoes.items():\n",
    "        cobertos = estados_abranger & estados_por_estacao\n",
    "        if (len(cobertos) > len(estados_cobertos)):\n",
    "            melhor_estacao = estacao\n",
    "            estados_cobertos = cobertos\n",
    "    estados_abranger -= estados_cobertos\n",
    "    estacoes_finais.add(melhor_estacao)\n",
    "    \n",
    "print(estacoes_finais)"
   ]
  },
  {
   "cell_type": "markdown",
   "metadata": {},
   "source": [
    "O algoritmo de Dijkstra é do tipo guloso."
   ]
  },
  {
   "cell_type": "markdown",
   "metadata": {},
   "source": [
    "## Problemas NP-completos"
   ]
  }
 ],
 "metadata": {
  "kernelspec": {
   "display_name": "Python 3",
   "language": "python",
   "name": "python3"
  },
  "language_info": {
   "codemirror_mode": {
    "name": "ipython",
    "version": 3
   },
   "file_extension": ".py",
   "mimetype": "text/x-python",
   "name": "python",
   "nbconvert_exporter": "python",
   "pygments_lexer": "ipython3",
   "version": "3.8.5"
  }
 },
 "nbformat": 4,
 "nbformat_minor": 4
}
