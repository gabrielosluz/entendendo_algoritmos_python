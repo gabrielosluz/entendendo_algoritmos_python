{
 "cells": [
  {
   "cell_type": "markdown",
   "metadata": {},
   "source": [
    "# Ordenacao por seleção"
   ]
  },
  {
   "cell_type": "markdown",
   "metadata": {},
   "source": [
    "### Funcionamento da memória e arrys e listas encadeadas"
   ]
  },
  {
   "cell_type": "markdown",
   "metadata": {},
   "source": [
    "Jeitos para se armazenar multiplos itens na memoria: arrays e listas. Para arrays, o armazenamento na memoria é feito de forma sequencial. Ou seja, um elemento é colocado exatamente após o outro. Seria como amigos sentando necessariamente juntos para ver um filme. Para as listas encadeadas os elementos não precisam estar de forma sequencial mas sim espalhados na memoria. Para o exemplo anterior, seria como o grupo de amigos sentando em lugares separados no cinema pois a sala já está cheia e não tem mais lugares juntos."
   ]
  },
  {
   "cell_type": "markdown",
   "metadata": {},
   "source": [
    "Exercicio 2.2 - Suponha que voce esteja criando um aplicativo para anotar os pedidos dos clientes em um restaurante. Seu apicativo precisa de uma lista de pedidos. Os garçõns adicionam os pedidos a essa lista e os chefes retiram os pedidos da lista. Funciona como uma fila. Os garçons colocam os pedidos no final da fila e os chefes retiram os pedidos do começ odela. Voce usaria um array ou lista encadeada para implementar essa lista? "
   ]
  },
  {
   "cell_type": "markdown",
   "metadata": {},
   "source": [
    "Resposta: Uma lista encadeada. Muitas inserções estão ocorrendo, sendo essa uma das vantagens da lista encadeada. Voce não precisa pesquisar ou ter acesso aleatorio ()/nisso os arrays são bons, pois os chefs sempre vão pegar o primeiro da fila."
   ]
  },
  {
   "cell_type": "markdown",
   "metadata": {},
   "source": [
    "Exercicio 2.3 - Supondo que o Facebook use Pesquisa ordenada para achar o nome das pessoas na lista de usuarios. Qual estrutura de dados eles deveriam usar para isso, sendo que a Pesquisa Binaria requer acesso aleatorio? "
   ]
  },
  {
   "cell_type": "markdown",
   "metadata": {},
   "source": [
    "Resposta: Um array ordenado. Arrays fornecem acesso aleatorio, então voce pode pegar um elemento do meio do array instantaneamente. Isso não é possivel com lsitas encadeadas. Para acessar  o elemtno central de uma lista encadeada, voce deve iniciar o primeiro elemento e seguir todos os links ate o elemento central. "
   ]
  },
  {
   "cell_type": "markdown",
   "metadata": {},
   "source": [
    "Exercicio 2.3 - As pessoas se inscrevem no Facebook com muita frequencia tambem. Suponha que voce decida usar um array para armazenar a lista de usuarios. Quais as desvantagens de um array em relacao as insercoes? Em particular, imagine que voce esta usando a pesquisa para buscar logins. O que acontece quando voce adicona novos usuarios em um array?"
   ]
  },
  {
   "cell_type": "markdown",
   "metadata": {},
   "source": [
    "Resposta: As insercoes são lentas. Alem disso, se voce estiver utilizando a pesquisa binaria para procurar os  nomes de usuario, o array precisará estar ordenado. Suponha que alguem chamado Adit B se registre noFacebook. O nome dele sera inserido no final do array. Assim voce precisa ordenar o array cada vez que um nome for inserido."
   ]
  },
  {
   "cell_type": "markdown",
   "metadata": {},
   "source": [
    "### Ordenacao por selecao"
   ]
  },
  {
   "cell_type": "markdown",
   "metadata": {},
   "source": [
    "Algoritmo de ordenação simples com tempo de execução de O(n^2) (não exatamente, veremos no cap 4 o por que). "
   ]
  },
  {
   "cell_type": "code",
   "execution_count": 1,
   "metadata": {},
   "outputs": [],
   "source": [
    "def busca_menor(arr):\n",
    "    menor = arr[0]\n",
    "    menor_indice = 0\n",
    "    \n",
    "    for i in range(1,len(arr)):\n",
    "        if(arr[i] < menor):\n",
    "            menor = arr[i]\n",
    "            menor_indice = i\n",
    "    return menor_indice\n",
    "\n",
    "\n",
    "def ordenacaoPorSelecao(arr):\n",
    "    novoArr = []\n",
    "    for i in range(len(arr)):\n",
    "        menor = busca_menor(arr)\n",
    "        novoArr.append(arr.pop(menor))\n",
    "    return novoArr"
   ]
  },
  {
   "cell_type": "code",
   "execution_count": 2,
   "metadata": {},
   "outputs": [
    {
     "name": "stdout",
     "output_type": "stream",
     "text": [
      "[2, 3, 5, 6, 10]\n"
     ]
    }
   ],
   "source": [
    "print(ordenacaoPorSelecao([5,3,6,2,10]))"
   ]
  }
 ],
 "metadata": {
  "kernelspec": {
   "display_name": "Python 3",
   "language": "python",
   "name": "python3"
  },
  "language_info": {
   "codemirror_mode": {
    "name": "ipython",
    "version": 3
   },
   "file_extension": ".py",
   "mimetype": "text/x-python",
   "name": "python",
   "nbconvert_exporter": "python",
   "pygments_lexer": "ipython3",
   "version": "3.7.4"
  }
 },
 "nbformat": 4,
 "nbformat_minor": 2
}
