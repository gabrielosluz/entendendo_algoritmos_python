{
 "cells": [
  {
   "cell_type": "markdown",
   "metadata": {},
   "source": [
    "# Ordenacao por seleção"
   ]
  },
  {
   "cell_type": "markdown",
   "metadata": {},
   "source": [
    "### Funcionamento da memória e arrys e listas encadeadas"
   ]
  },
  {
   "cell_type": "markdown",
   "metadata": {},
   "source": [
    "Jeitos para se armazenar multiplos itens na memoria: arrays e listas. Para arrays, o armazenamento na memoria é feito de forma sequencial. Ou seja, um elemento é colocado exatamente após o outro. Seria como amigos sentando necessariamente juntos para ver um filme. Para as listas encadeadas os elementos não precisam estar de forma sequencial mas sim espalhados na memoria. Para o exemplo anterior, seria como o grupo de amigos sentando em lugares separados no cinema pois a sala já está cheia e não tem mais lugares juntos."
   ]
  }
 ],
 "metadata": {
  "kernelspec": {
   "display_name": "Python 3",
   "language": "python",
   "name": "python3"
  },
  "language_info": {
   "codemirror_mode": {
    "name": "ipython",
    "version": 3
   },
   "file_extension": ".py",
   "mimetype": "text/x-python",
   "name": "python",
   "nbconvert_exporter": "python",
   "pygments_lexer": "ipython3",
   "version": "3.7.4"
  }
 },
 "nbformat": 4,
 "nbformat_minor": 2
}
