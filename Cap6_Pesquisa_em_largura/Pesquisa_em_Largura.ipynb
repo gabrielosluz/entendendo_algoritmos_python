{
 "cells": [
  {
   "cell_type": "markdown",
   "metadata": {},
   "source": [
    "# Pesquisa em largura"
   ]
  },
  {
   "cell_type": "markdown",
   "metadata": {},
   "source": [
    "Do ingles Breadth-first search (BFS)."
   ]
  },
  {
   "cell_type": "markdown",
   "metadata": {},
   "source": [
    "A pesquisa em largura permite encontrar o menor caminho entre dois objetos. "
   ]
  },
  {
   "cell_type": "markdown",
   "metadata": {},
   "source": [
    "## Introdução a grafos"
   ]
  },
  {
   "cell_type": "markdown",
   "metadata": {},
   "source": [
    "Um modelo de grafo é um conjunto de conexões. Grafos são formados por vértices e arestas. Um vértice pode ser diretamente concetado a muitos outros vértices, por isso os chamamos de vizinhos. Os grafos são uma maneira de modelar como eventos diferentes estão conectados entre si."
   ]
  },
  {
   "cell_type": "markdown",
   "metadata": {},
   "source": [
    "## Pesquisa em Largura"
   ]
  },
  {
   "cell_type": "markdown",
   "metadata": {},
   "source": [
    "Este algoritmo ajuda responder dois tipos de perguntas:\n",
    "\n",
    "- Existe algum caminho do vértice A até o vértice B?\n",
    "\n",
    "- Qual o caminho mínimo do vértice A até o vértice B?"
   ]
  },
  {
   "cell_type": "markdown",
   "metadata": {},
   "source": [
    "## Fila"
   ]
  },
  {
   "cell_type": "markdown",
   "metadata": {},
   "source": [
    "Duas operações: enqueue (enfileirar) e dequeue (desenfileirar). Também podem ser usados os termos push (enqueue) e pop (desenfileirar). "
   ]
  },
  {
   "cell_type": "markdown",
   "metadata": {},
   "source": [
    "A fila é uma estrutura de dados FIFO (First in, First out). Já a pilha é uma estrutura de dados do tipo LIFO (Last in, First Out)."
   ]
  },
  {
   "cell_type": "markdown",
   "metadata": {},
   "source": [
    "## Implementando o grafo"
   ]
  },
  {
   "cell_type": "markdown",
   "metadata": {},
   "source": [
    "Um grafo consiste de diversos vértices. Cada vértice é conectado aos vértices vizinhos. Essa relação pode ser feita usando tabela hash."
   ]
  },
  {
   "cell_type": "markdown",
   "metadata": {},
   "source": [
    "Quando um elemento possui setas de relação apontas para ele mas nenhuma seta partindo deles se chama  digrafo (grafo direcionado), onde a relação acontece apenas em um sentido. "
   ]
  },
  {
   "cell_type": "code",
   "execution_count": 1,
   "metadata": {},
   "outputs": [],
   "source": [
    "grafo = {}\n",
    "grafo['voce'] = [\"alice\",\"bob\",\"claire\"]\n",
    "grafo['bob'] = [\"anuj\",\"peggy\"]\n",
    "grafo['alice'] = [\"peggy\"]\n",
    "grafo[\"claire\"] = [\"thom\",\"jonny\"]\n",
    "grafo['anuj'] = []\n",
    "grafo['peggy'] = []\n",
    "grafo['thom'] = []\n",
    "grafo['jonny'] = []"
   ]
  },
  {
   "cell_type": "markdown",
   "metadata": {},
   "source": [
    "A ordem de adição dos elementos no grafo não faz diferença por tabelas hash não são ordenadas. "
   ]
  },
  {
   "cell_type": "markdown",
   "metadata": {},
   "source": [
    "## Implementando o algoritmo"
   ]
  },
  {
   "cell_type": "code",
   "execution_count": 5,
   "metadata": {},
   "outputs": [],
   "source": [
    "#Comece criando uma lista. Em python usa-se a função deque (double-ended queue ou fila com dois finais)\n",
    "from collections import deque\n",
    "fila_de_pesquisa = deque()\n",
    "fila_de_pesquisa += grafo[\"voce\"]"
   ]
  },
  {
   "cell_type": "code",
   "execution_count": 7,
   "metadata": {},
   "outputs": [],
   "source": [
    "def pessoa_e_vendedor(nome):\n",
    "    return nome[-1] == 'm'"
   ]
  },
  {
   "cell_type": "code",
   "execution_count": 10,
   "metadata": {
    "collapsed": true
   },
   "outputs": [
    {
     "ename": "SyntaxError",
     "evalue": "'return' outside function (<ipython-input-10-5a23c309ad23>, line 5)",
     "output_type": "error",
     "traceback": [
      "\u001b[1;36m  File \u001b[1;32m\"<ipython-input-10-5a23c309ad23>\"\u001b[1;36m, line \u001b[1;32m5\u001b[0m\n\u001b[1;33m    return True\u001b[0m\n\u001b[1;37m    ^\u001b[0m\n\u001b[1;31mSyntaxError\u001b[0m\u001b[1;31m:\u001b[0m 'return' outside function\n"
     ]
    }
   ],
   "source": [
    "while(fila_de_pesquisa):\n",
    "    pessoa = fila_de_pesquisa.popleft()\n",
    "    if(pessoa_e_vendedor(pessoa)):\n",
    "        print(pessoa + \"é um vendedor de manga!\")\n",
    "        return True\n",
    "    else:\n",
    "        fila_de_pesquisa += grafo[\"pessoa\"]"
   ]
  },
  {
   "cell_type": "markdown",
   "metadata": {},
   "source": [
    "Antes de verificar uma pessoa, é importante conferir se ela ainda nao foi verificada.  Para fazer isso, voce criará uma lista de pessoas que ja foram verificadas."
   ]
  },
  {
   "cell_type": "code",
   "execution_count": 21,
   "metadata": {},
   "outputs": [
    {
     "name": "stdout",
     "output_type": "stream",
     "text": [
      "thom é um vendedor de manga!\n"
     ]
    },
    {
     "data": {
      "text/plain": [
       "True"
      ]
     },
     "execution_count": 21,
     "metadata": {},
     "output_type": "execute_result"
    }
   ],
   "source": [
    "def pesquisa(nome):\n",
    "    fila_de_pesquisa = deque()\n",
    "    fila_de_pesquisa += grafo[nome]\n",
    "    verificadas = []\n",
    "    while fila_de_pesquisa:\n",
    "        pessoa = fila_de_pesquisa.popleft()\n",
    "        if pessoa not in verificadas:\n",
    "            if pessoa_e_vendedor(pessoa):\n",
    "                print(pessoa + \" é um vendedor de manga!\")\n",
    "                return True\n",
    "            else:\n",
    "                fila_de_pesquisa += grafo[pessoa]\n",
    "                verificadas.append(pessoa)\n",
    "    return False\n",
    "\n",
    "pesquisa(\"voce\")"
   ]
  },
  {
   "cell_type": "code",
   "execution_count": 13,
   "metadata": {},
   "outputs": [
    {
     "name": "stdout",
     "output_type": "stream",
     "text": [
      "thom is a mango seller!\n"
     ]
    },
    {
     "data": {
      "text/plain": [
       "True"
      ]
     },
     "execution_count": 13,
     "metadata": {},
     "output_type": "execute_result"
    }
   ],
   "source": [
    "from collections import deque\n",
    "\n",
    "def person_is_seller(name):\n",
    "      return name[-1] == 'm'\n",
    "\n",
    "graph = {}\n",
    "graph[\"you\"] = [\"alice\", \"bob\", \"claire\"]\n",
    "graph[\"bob\"] = [\"anuj\", \"peggy\"]\n",
    "graph[\"alice\"] = [\"peggy\"]\n",
    "graph[\"claire\"] = [\"thom\", \"jonny\"]\n",
    "graph[\"anuj\"] = []\n",
    "graph[\"peggy\"] = []\n",
    "graph[\"thom\"] = []\n",
    "graph[\"jonny\"] = []\n",
    "\n",
    "def search(name):\n",
    "    search_queue = deque()\n",
    "    search_queue += graph[name]\n",
    "    # This array is how you keep track of which people you've searched before.\n",
    "    searched = []\n",
    "    while search_queue:\n",
    "        person = search_queue.popleft()\n",
    "        # Only search this person if you haven't already searched them.\n",
    "        if person not in searched:\n",
    "            if person_is_seller(person):\n",
    "                print(person + \" is a mango seller!\")\n",
    "                return True\n",
    "            else:\n",
    "                search_queue += graph[person]\n",
    "                # Marks this person as searched\n",
    "                searched.append(person)\n",
    "    return False\n",
    "\n",
    "search(\"you\")"
   ]
  },
  {
   "cell_type": "markdown",
   "metadata": {},
   "source": [
    "## Tempo de execução"
   ]
  },
  {
   "cell_type": "markdown",
   "metadata": {},
   "source": [
    "Se voce procurar um vendedor de mangas em toda a sua rede, cada aresta (conexão entre pessoas) será analisada. Portando o tempo de execução é, no mínimo, O(numero de arestas)."
   ]
  },
  {
   "cell_type": "markdown",
   "metadata": {},
   "source": [
    "Alem disso tambem sera mantida uma lista com pessoas ja verificadas. Adicionar uma pessoa à lista leva um tempo de execução constante: O(1). Fazer isso para cada pessoa terá tempo de execução O(número de pessoas) no total. Assim, a pesquisa em largura tem tempo de execução O(número de pessoas + número de arestas), que é frequentemente escrito como O(V+A) (V para vértice e A para Arestas)."
   ]
  },
  {
   "cell_type": "markdown",
   "metadata": {},
   "source": [
    "## Extras"
   ]
  },
  {
   "cell_type": "markdown",
   "metadata": {},
   "source": [
    "Ordenação topologica: forma de criar ordenação em grafos criando dependencias. "
   ]
  },
  {
   "cell_type": "markdown",
   "metadata": {},
   "source": [
    "Uma árvore é um tipo especial de grafo em que nenhuma aresta jamais aponta de volta."
   ]
  }
 ],
 "metadata": {
  "kernelspec": {
   "display_name": "Python 3",
   "language": "python",
   "name": "python3"
  },
  "language_info": {
   "codemirror_mode": {
    "name": "ipython",
    "version": 3
   },
   "file_extension": ".py",
   "mimetype": "text/x-python",
   "name": "python",
   "nbconvert_exporter": "python",
   "pygments_lexer": "ipython3",
   "version": "3.8.5"
  }
 },
 "nbformat": 4,
 "nbformat_minor": 4
}
