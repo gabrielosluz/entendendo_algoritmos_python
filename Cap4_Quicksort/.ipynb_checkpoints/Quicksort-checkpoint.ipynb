{
 "cells": [
  {
   "cell_type": "markdown",
   "metadata": {},
   "source": [
    "# Quicksort"
   ]
  },
  {
   "cell_type": "markdown",
   "metadata": {},
   "source": [
    "Neste capitulo sera explicada a tecnica dividir para conquistar (DC), uma tecnica recursiva muito conhecida para resolução de problemas. Neste capitulo tambem sera introduziado um algoritmo de ordenacao que usa a tecnica DC, o quicksort."
   ]
  },
  {
   "cell_type": "markdown",
   "metadata": {},
   "source": [
    "Regra geral da tecnica dividir para conquistas. Dois passos: "
   ]
  },
  {
   "cell_type": "markdown",
   "metadata": {},
   "source": [
    "- Descubra o caso base, que deve ser o caso mais simples possivel."
   ]
  },
  {
   "cell_type": "markdown",
   "metadata": {},
   "source": [
    "- Divida ou diminua o seu problema até que ele se torne o caso base."
   ]
  },
  {
   "cell_type": "markdown",
   "metadata": {},
   "source": [
    "O algoritmo DC não é um simples algoritmo que voce aplica em um problema mas sim uma maneira de pensar sobre o problema. "
   ]
  },
  {
   "cell_type": "markdown",
   "metadata": {},
   "source": [
    "Exemplo: [2,4,6] é um array de numeros. Voce deve somar todos os numeros e retornar o valor total. Isso pode se feito com um simples loop, como mostrado abaixo."
   ]
  },
  {
   "cell_type": "code",
   "execution_count": 2,
   "metadata": {},
   "outputs": [],
   "source": [
    "def soma(lista):\n",
    "    total = 0\n",
    "    for x in lista:\n",
    "        total += x\n",
    "    return total"
   ]
  },
  {
   "cell_type": "code",
   "execution_count": 4,
   "metadata": {
    "scrolled": true
   },
   "outputs": [
    {
     "name": "stdout",
     "output_type": "stream",
     "text": [
      "10\n"
     ]
    }
   ],
   "source": [
    "lista = [1,2,3,4]\n",
    "print(soma(lista))"
   ]
  },
  {
   "cell_type": "markdown",
   "metadata": {},
   "source": [
    "Mas como isso poderia ser feito de forma recursiva?"
   ]
  },
  {
   "cell_type": "markdown",
   "metadata": {},
   "source": [
    "Passo 1: Descobrir o caso base. Qual é o array mais simples que voce pode obter? Pense sobre o caso mais simples: se voec tiver um array com 0 ou 1 elemento, sera muito simples de calcular a soma. Logo, esse é o caso base. [ ] 0 elementos -> soma 0; [7] 1 elemento -> soma é 7."
   ]
  },
  {
   "cell_type": "markdown",
   "metadata": {},
   "source": [
    "Passo 2: Voce deve chegar mais perto de um array vazio a cada recursao. Como pode reduzir o tamanho do seu problema? Esta é uma alternativa: "
   ]
  },
  {
   "cell_type": "markdown",
   "metadata": {},
   "source": [
    "soma([2,4,6]) = 12 ---> que é equivalente a 2 + soma([4,6]) = 2 + 10 = 12"
   ]
  },
  {
   "cell_type": "markdown",
   "metadata": {},
   "source": [
    "Em ambos os casos oresultado é 12. Embora na segunda versão voce esta usando um array menor e portando, diminuindo o tamanho do problema. Lembre-se, do capitulo anterior, que a recursao tem memoria dos estados anteriores."
   ]
  },
  {
   "cell_type": "markdown",
   "metadata": {},
   "source": [
    "Exercicio 4.1 - Escreva o codigo para a função soma, vista anteriormente."
   ]
  },
  {
   "cell_type": "code",
   "execution_count": 6,
   "metadata": {},
   "outputs": [
    {
     "name": "stdout",
     "output_type": "stream",
     "text": [
      "6\n"
     ]
    }
   ],
   "source": [
    "def soma(lista):\n",
    "    if(lista == []):\n",
    "        return 0\n",
    "    return lista[0] + soma(lista[1:])\n",
    "\n",
    "print(soma([1,2,3]))"
   ]
  },
  {
   "cell_type": "markdown",
   "metadata": {},
   "source": [
    "Exercicio 4.2 - Escreva uma função recursiva que conte o numero de itens em uma lista."
   ]
  },
  {
   "cell_type": "code",
   "execution_count": 7,
   "metadata": {},
   "outputs": [
    {
     "name": "stdout",
     "output_type": "stream",
     "text": [
      "3\n"
     ]
    }
   ],
   "source": [
    "def count(lista):\n",
    "    if(lista == []):\n",
    "        return 0\n",
    "    return 1 + count(lista[1:])\n",
    "\n",
    "print(count([1,2,3]))"
   ]
  },
  {
   "cell_type": "markdown",
   "metadata": {},
   "source": [
    "Exercicio 4.3 - Encontre o valor mais alto em uma lista."
   ]
  },
  {
   "cell_type": "code",
   "execution_count": 8,
   "metadata": {},
   "outputs": [
    {
     "name": "stdout",
     "output_type": "stream",
     "text": [
      "4\n"
     ]
    }
   ],
   "source": [
    "def max(lista):\n",
    "    if(len(lista) ==2):\n",
    "        return lista[0] if lista[0] > lista[1] else lista[1]\n",
    "    sub_max = max(lista[1:])\n",
    "    return lista[0] if lista[0] > sub_max else sub_max\n",
    "\n",
    "print(max([3,1,4,2]))"
   ]
  },
  {
   "cell_type": "markdown",
   "metadata": {},
   "source": [
    "Exercicio 4.4 - Voce se lembra da pesquisa binaria no capitulo 1? Ela tambem é um algoritmo do tipo dividir para conquistar. Voce consegue determinar o caso base e o caso recursivo para a pesquisa binaria? "
   ]
  },
  {
   "cell_type": "markdown",
   "metadata": {},
   "source": [
    "Resposta: O caso base para a pesquisa binaria é um array com um item. Se o item que voce esta procurando combina com o item presente no array, voce encontrou. Caso contrario, ele não esta no array. No caso recursivo, para a pesquisa binaria voce divide o array pela metade, joga fora uma metade e executa uma pesquisa binaria na outra metade."
   ]
  },
  {
   "cell_type": "markdown",
   "metadata": {},
   "source": [
    "### Quicksort"
   ]
  },
  {
   "cell_type": "markdown",
   "metadata": {},
   "source": [
    "O Quicksorte é um algoritmo de ordenação, que é muito mais rapido que a ordenação por seleção. Esse algoritmo tambem usa a tecnica dividir para conquistar. "
   ]
  },
  {
   "cell_type": "markdown",
   "metadata": {},
   "source": [
    "O funcionamento do quicksort segue a seguinte logica: primeiro, escolha um elemento do array que será o pivô. Tomando como exemlo o array [33, 15,10]. O passo seguinte é encontrar os elementos do array menores e maiores que o pivô. No exemplo temos os seguintes grupos então, menores [15,10] e maiores [  ]. Isso é chamado de particionamento. Desse modo temos um subarray com os numeros menores, outro subarray com os maiores e o pivô."
   ]
  },
  {
   "cell_type": "markdown",
   "metadata": {},
   "source": [
    "Caso os dois subarrays já estejam ordenados bastará combilados de forma subarray de menores + pivô + subarray de maiores. "
   ]
  },
  {
   "cell_type": "markdown",
   "metadata": {},
   "source": [
    "Como voce pode ordenador os subarrays? O caso base do quicksort consegue ordenar arrays de dois elementos. Assim, se utlizar o quicksort em ambos e então combinar o resultado terá um array ordenado."
   ]
  },
  {
   "cell_type": "markdown",
   "metadata": {},
   "source": [
    "Para arrays maiores, de 4 ou 5 elementos, a linha de raciocinio é similar, basta executar os subrrays com numero de elementos maior do que 2 de forma recursiva. Tomando coo exemplo o array [3,5,2,1,4]. Estas são todas as maneiras que se pode particionar, dependendo do pivô de escolha: <br> [  ] <1> [3,5,2,4] <br> [1] <2> [3,5,4] <br>[2,1] <3> [5,4] <br> [3,2,1] <4> [5] <br> [3,2,1,4] <5> [  ] <br> Como todos os arrays tem entre 0 e 4 elementos, não importa o pivô de escolha, o quicksort poderá ser executada recursivamente nos subarrays. Usando a mesma logica se consegue ordenar um array com 6 ou mais elementos"
   ]
  },
  {
   "cell_type": "markdown",
   "metadata": {},
   "source": [
    "Abaixo está o código para o quicksort:"
   ]
  },
  {
   "cell_type": "code",
   "execution_count": 10,
   "metadata": {},
   "outputs": [
    {
     "name": "stdout",
     "output_type": "stream",
     "text": [
      "[2, 3, 5, 10]\n"
     ]
    }
   ],
   "source": [
    "def quicksort(array):\n",
    "    if(len(array) < 2):\n",
    "        return array\n",
    "    else:\n",
    "        pivo = array[0]\n",
    "        menores = [i for i in array[1:] if i <= pivo]\n",
    "        maiores = [i for i in array[1:] if i > pivo]\n",
    "        return quicksort(menores) + [pivo] + quicksort(maiores)\n",
    "\n",
    "print(quicksort([10,5,2,3]))"
   ]
  },
  {
   "cell_type": "markdown",
   "metadata": {},
   "source": [
    "### Notacao Big O revisada"
   ]
  },
  {
   "cell_type": "markdown",
   "metadata": {},
   "source": [
    "#### Merge sort vs quicksort"
   ]
  },
  {
   "cell_type": "markdown",
   "metadata": {},
   "source": [
    "Ha outro algoritmo de ordenação chamado merge sort, que tem tempo de execução O(nlogn), ou seja, bastante rapido. O algoritmo quicksort é um caso complicado, pois no pior caso tem um tempo de execução O(n^2). Portanto, ele é tão lento quanto ordenação por seleção. Nessa seção abordaremos as questões do pior caso e do médio caso. "
   ]
  },
  {
   "cell_type": "markdown",
   "metadata": {},
   "source": [
    "Mas antes, se o quicksort tem tempo de execucao medio O(nlogn) e o merge sort tem tempo de execução O(nlogn) sempre, por que não utilizar o merge sort?"
   ]
  },
  {
   "cell_type": "markdown",
   "metadata": {},
   "source": [
    "Suponha que voce tenha uma simples função que imprima itens na tela."
   ]
  },
  {
   "cell_type": "code",
   "execution_count": 12,
   "metadata": {},
   "outputs": [],
   "source": [
    "def imprime_itens(lista):\n",
    "    for item in lista:\n",
    "        print(item)"
   ]
  },
  {
   "cell_type": "markdown",
   "metadata": {},
   "source": [
    "Esta função analisa cada item da lista e o imprime. Como esta função passa por lista uma vez, ela tem tempo de execucao O(n). Agora imagine que voce modificou essa função para aguardar um segundo antes de imprimir um intem. "
   ]
  },
  {
   "cell_type": "code",
   "execution_count": 13,
   "metadata": {},
   "outputs": [],
   "source": [
    "from time import sleep \n",
    "def imprime_itens2(lista):\n",
    "    for item in lista:\n",
    "        sleep(1)\n",
    "        print(item)"
   ]
  },
  {
   "cell_type": "markdown",
   "metadata": {},
   "source": [
    "Ambas as funções passam por toda a lista uma vez, portanto elas tem tempo de execução O(n). Qual das duas sera mais rapida na pratica? Como a segunda aguarda o tempo de espera, a imprime_itens() será muito mais rapida. Assim, mesmo que ambas as funções tenham o mesmo tempo de execucao na notação Big O, a primeira acaba sendo mais rapida. Quando vc escreve algo na notacao Big O, como O(n), por exemplo esta querendo dizer: <br> <br> C*n , onde c é uma quantidade determinada de tempo.'m'"
   ]
  },
  {
   "cell_type": "markdown",
   "metadata": {},
   "source": [
    "A letra C é uma quantidade determinada de tempo que o seu algoritmo leva para ser executado. Ela é chamada de constante. Normalmente voce ignora a constante, pois caso dois algoritmos tenham tempos de execucao Big O diferentes, a cosntante não importará. Vamps usar a pesquisa binaria e a pesquisa simples como exemplos desse fato. <br> <br> Pesquisa simples: 10 ms * n | Pesquisa binaria: 1 seg * logn"
   ]
  },
  {
   "cell_type": "markdown",
   "metadata": {},
   "source": [
    "Voce pode imaginar que a pesquisa simples sera mais rapida pois sua constante é de apenas 10 milisegundos. Agora, suponha que esteja realizando uma busca em uma lista com 4 bilhões de elementos. <br> <br> Pesquisa simples: 10 ms * 4 bilhões = 463 dias <br> Pesquisa binaria: 1 seg * 32 = 32 segundos"
   ]
  },
  {
   "cell_type": "markdown",
   "metadata": {},
   "source": [
    "Como voce pode ver, a pesquisa binaria continua sendo muito mais rapida. A constante não causou diferenteça. Porem, as vezes a constante pode fazer diferença. O quicksort comparado ao merge sort é um exemplo disso. O quicksort tem uma constante menor do que a do merge. Assim, como ambos tem tempo de execucao O(nlogn), o quicksort acaba sendo mais rapido. Alem disso, o quicksort é mais rapido na pratica pois frequentemente ele funciona no caso medio."
   ]
  },
  {
   "cell_type": "markdown",
   "metadata": {},
   "source": [
    "#### Caso medio vs pior caso"
   ]
  },
  {
   "cell_type": "markdown",
   "metadata": {},
   "source": [
    "O desempenho do quicksort depende bastante da escolha do pivo. Imagine que voce sempre escolha o primeiro elemento como pivo e que voce execute o quicksort em um array que ja esta ordenado. O quicksort não faz checagem para conferir se o array ja esta ordenado. Logo tentará ordenar mesmo assim."
   ]
  },
  {
   "cell_type": "markdown",
   "metadata": {},
   "source": [
    "Esse é um exemplo do pior caso. Pois as pilhas nas chamadas recursivas serão maiores. Para o medio caso, um exemplo seria escolher sempre o elemento central do array. Ou seja, no pior caso o tamanho da pilha é O(n) e no melhor o tamanho é O(logn). Voce pode obter o melhor caso de forma consistente, contanto que sempre escolha um elemento aleatorio como pivo."
   ]
  },
  {
   "cell_type": "markdown",
   "metadata": {},
   "source": [
    "Exercicios. Quanto tempo levaria, em notação Big O, para completar cada uma destas operações?"
   ]
  },
  {
   "cell_type": "markdown",
   "metadata": {},
   "source": [
    "Exercicio 4.5 - Imprimir o valor de cada elemento de um array. "
   ]
  },
  {
   "cell_type": "markdown",
   "metadata": {},
   "source": [
    "Resposta: O(n)"
   ]
  },
  {
   "cell_type": "markdown",
   "metadata": {},
   "source": [
    "Exercicio 4.6 - Duplicar o valor de cada elemento em um array."
   ]
  },
  {
   "cell_type": "markdown",
   "metadata": {},
   "source": [
    "Resposta: O(n)"
   ]
  },
  {
   "cell_type": "markdown",
   "metadata": {},
   "source": [
    "Exercicio 4.7 - Duplicar o valor apenas do primeiro elemento do array."
   ]
  },
  {
   "cell_type": "markdown",
   "metadata": {},
   "source": [
    "Resposta: O(1)"
   ]
  },
  {
   "cell_type": "markdown",
   "metadata": {},
   "source": [
    "Exercicio 4.8 - Criar uma tabela de multiplicação com todos os elementos do array. Assim caso, a o seu array seja [2,3,7,8,10] voce primeiro multiplicara cada elemento por 2. Depois cada um deles por 3, por 7 e assim por diante. "
   ]
  },
  {
   "cell_type": "markdown",
   "metadata": {},
   "source": [
    "Resposta: O(n^2)"
   ]
  }
 ],
 "metadata": {
  "kernelspec": {
   "display_name": "Python 3",
   "language": "python",
   "name": "python3"
  },
  "language_info": {
   "codemirror_mode": {
    "name": "ipython",
    "version": 3
   },
   "file_extension": ".py",
   "mimetype": "text/x-python",
   "name": "python",
   "nbconvert_exporter": "python",
   "pygments_lexer": "ipython3",
   "version": "3.7.4"
  }
 },
 "nbformat": 4,
 "nbformat_minor": 2
}
