{
 "cells": [
  {
   "cell_type": "markdown",
   "metadata": {},
   "source": [
    "# Tabelas hash"
   ]
  },
  {
   "cell_type": "markdown",
   "metadata": {},
   "source": [
    "Objetivos do capitulo: conhecer a estrutura de dados chamada de tabela hash e detalhes como implementação, colisões e funções hash."
   ]
  },
  {
   "cell_type": "markdown",
   "metadata": {},
   "source": [
    "### Funções hash"
   ]
  },
  {
   "cell_type": "markdown",
   "metadata": {},
   "source": [
    "Uma função hash é uma função na qual voce insere uma string e depois disso a função retorna um numero. Ou seja, essa função mapeia strings e numeros. Voce pode pensar que não existe um padrão indicando qual numero sera retornado após a inserção de uma string mas existem alguns requisitos para uma função hash."
   ]
  },
  {
   "cell_type": "markdown",
   "metadata": {},
   "source": [
    "- Ela deve ser consistente. Ou seja, imagine que voce insere a string \"maçã\" e recebe o numero 4. Todas as vezes que voce inserir \"maçã\" a função deve retornar o numero 4, caso contrario, a tabela não funcionara corretamente."
   ]
  },
  {
   "cell_type": "markdown",
   "metadata": {},
   "source": [
    "- A função deve mapear diferentes numeros para diferentes palavras. "
   ]
  },
  {
   "cell_type": "markdown",
   "metadata": {},
   "source": [
    ">Uma função hash em conjunto com um array resulta em uma tabela hash."
   ]
  },
  {
   "cell_type": "markdown",
   "metadata": {},
   "source": [
    "Em python, as tabelas hash são os dicionarios (dict()). Ou seja, uma tabela hash contem chaves e valores. "
   ]
  },
  {
   "cell_type": "markdown",
   "metadata": {},
   "source": [
    "### Desempenho"
   ]
  },
  {
   "cell_type": "markdown",
   "metadata": {},
   "source": [
    "As tabelas hash são tão velozes quanto os arrays na busca (pegar um valor em algum indice) e elas são tão velozes quanto as listas na inserção e na remoção de itens. Ou seja, ela é o melhor dos dois mundos. Porém, no pior caso, as tabelas hash são lentas em ambos os casos. Assim é importante que nã ose opere no pior caso. Para isso é precisa evitar colisões. Para evitar colisões são necessarios dois fatores:"
   ]
  },
  {
   "cell_type": "markdown",
   "metadata": {},
   "source": [
    "- um baixo faotr de carga \n",
    "- uma boa função hash."
   ]
  },
  {
   "cell_type": "markdown",
   "metadata": {},
   "source": [
    "#### Fator de carga"
   ]
  },
  {
   "cell_type": "markdown",
   "metadata": {},
   "source": [
    "Numero de itens na tabela / numero total de espaços"
   ]
  },
  {
   "cell_type": "markdown",
   "metadata": {},
   "source": [
    "#### Uma boa função hash"
   ]
  },
  {
   "cell_type": "markdown",
   "metadata": {},
   "source": [
    "Uma boa função hash distribui os valores no array de forma simetrica."
   ]
  }
 ],
 "metadata": {
  "kernelspec": {
   "display_name": "Python 3",
   "language": "python",
   "name": "python3"
  },
  "language_info": {
   "codemirror_mode": {
    "name": "ipython",
    "version": 3
   },
   "file_extension": ".py",
   "mimetype": "text/x-python",
   "name": "python",
   "nbconvert_exporter": "python",
   "pygments_lexer": "ipython3",
   "version": "3.8.5"
  }
 },
 "nbformat": 4,
 "nbformat_minor": 2
}
