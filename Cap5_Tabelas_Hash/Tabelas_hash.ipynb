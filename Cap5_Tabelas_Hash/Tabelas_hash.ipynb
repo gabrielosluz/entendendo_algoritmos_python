{
 "cells": [
  {
   "cell_type": "markdown",
   "metadata": {},
   "source": [
    "# Tabelas hash"
   ]
  },
  {
   "cell_type": "markdown",
   "metadata": {},
   "source": [
    "Objetivos do capitulo: conhecer a estrutura de dados chamada de tabela hash e detalhes como implementação, colisões e funções hash."
   ]
  },
  {
   "cell_type": "markdown",
   "metadata": {},
   "source": [
    "### Funções hash"
   ]
  },
  {
   "cell_type": "markdown",
   "metadata": {},
   "source": [
    "Uma função hash é uma função na qual voce insere uma string e depois disso a função retorna um numero. Ou seja, essa função mapeia strings e numeros. Voce pode pensar que não existe um padrão indicando qual numero sera retornado após a inserção de uma string mas existem alguns requisitos para uma função hash."
   ]
  },
  {
   "cell_type": "markdown",
   "metadata": {},
   "source": [
    "- Ela deve ser consistente. Ou seja, imagine que voce insere a string \"maçã\" e recebe o numero 4. Todas as vezes que voce inserir \"maçã\" a função deve retornar o numero 4, caso contrario, a tabela não funcionara corretamente."
   ]
  },
  {
   "cell_type": "markdown",
   "metadata": {},
   "source": [
    "- A função deve mapear diferentes numeros para diferentes palavras. "
   ]
  },
  {
   "cell_type": "markdown",
   "metadata": {},
   "source": [
    ">Uma função hash em conjunto com um array resulta em uma tabela hash."
   ]
  },
  {
   "cell_type": "markdown",
   "metadata": {},
   "source": [
    "Em python, as tabelas hash são os dicionarios (dict()). Ou seja, uma tabela hash contem chaves e valores. "
   ]
  },
  {
   "cell_type": "code",
   "execution_count": null,
   "metadata": {},
   "outputs": [],
   "source": []
  }
 ],
 "metadata": {
  "kernelspec": {
   "display_name": "Python 3",
   "language": "python",
   "name": "python3"
  },
  "language_info": {
   "codemirror_mode": {
    "name": "ipython",
    "version": 3
   },
   "file_extension": ".py",
   "mimetype": "text/x-python",
   "name": "python",
   "nbconvert_exporter": "python",
   "pygments_lexer": "ipython3",
   "version": "3.8.5"
  }
 },
 "nbformat": 4,
 "nbformat_minor": 2
}
