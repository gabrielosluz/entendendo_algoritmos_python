{
 "cells": [
  {
   "cell_type": "markdown",
   "metadata": {},
   "source": [
    "# Introdução a algoritmos"
   ]
  },
  {
   "cell_type": "markdown",
   "metadata": {},
   "source": [
    "### Pesquisa Binaria"
   ]
  },
  {
   "cell_type": "markdown",
   "metadata": {},
   "source": [
    "Entrada: lista ordenada de elementos. \n",
    "Objetivo: eliminar a metade da busca a cada tentativa.\n",
    "Para uma lista de n elementos. A pesquisa binaria precisa de log(n) na base 2, a pesquisa simples leva n etapas."
   ]
  },
  {
   "cell_type": "markdown",
   "metadata": {},
   "source": [
    "Logica do algoritmo: A cada tentativa testa o elemento central. Definir um variavel meio (será arredondado para baixo). Se o chute for baixo, a variavel baixo sera incrementada. Se o chute for alto, a variavel alto sera reduziada."
   ]
  },
  {
   "cell_type": "code",
   "execution_count": 4,
   "metadata": {},
   "outputs": [],
   "source": [
    "def pesquisa_binaria(lista, item):\n",
    "    baixo = 0\n",
    "    alto = len(lista) -1\n",
    "    \n",
    "    while(baixo <= alto):\n",
    "        meio = (baixo+alto)//2\n",
    "        chute = lista[meio]\n",
    "        \n",
    "        if (chute == item):\n",
    "            return meio\n",
    "        if (chute > item):\n",
    "            alto = meio - 1\n",
    "        else:\n",
    "            baixo = meio + 1\n",
    "    return None"
   ]
  },
  {
   "cell_type": "code",
   "execution_count": 5,
   "metadata": {},
   "outputs": [
    {
     "name": "stdout",
     "output_type": "stream",
     "text": [
      "1\n",
      "None\n"
     ]
    }
   ],
   "source": [
    "minha_lista = [1,3,5,7,9]\n",
    "\n",
    "print(pesquisa_binaria(minha_lista,3))\n",
    "print(pesquisa_binaria(minha_lista,-1))"
   ]
  },
  {
   "cell_type": "markdown",
   "metadata": {},
   "source": [
    "Exercicio 1.1 - Suponha que voce tenha uma lista com 128 nomes e esteja fazendo uma pesquisa binaria. Qual seria o numero maximo de etapas que voce levaria para encontrar o nome desejado? Resposta: 7"
   ]
  },
  {
   "cell_type": "markdown",
   "metadata": {},
   "source": [
    "Exercicio 1.2 - Suponha que voce duplique o tamanho da lista. Qual seria o numero maximo de etapas? Respostas: 9"
   ]
  },
  {
   "cell_type": "markdown",
   "metadata": {},
   "source": [
    "### Notação Big O"
   ]
  },
  {
   "cell_type": "markdown",
   "metadata": {},
   "source": [
    "Notação para medir o tempo de execução de um algoritmo.\n",
    "O tempo de execução de algoritmos cresce a taxas diferentes. Exemplo: \n",
    "100 elementos. Binaria - 7 ms; Simples - 100 ms. \n",
    "1000 elementos. Binaria - 14 ms; Simples 10 segundos.\n",
    "1 bilhão elementos. Binaria - 32 ms; Simples - 11 dias."
   ]
  },
  {
   "cell_type": "markdown",
   "metadata": {},
   "source": [
    "Não basta saber quanto tempo um algoritmo leva para executar, precisa saber como o tempo de execucao aumento conforme a lista de itens aumenta. Ai entra a notação Big 0. Ela informa o quão rapido um algoritmo cresce, e não quanto tempo ele leva."
   ]
  },
  {
   "cell_type": "markdown",
   "metadata": {},
   "source": [
    "Tempos de execução mais comuns: O(log n); O(n); O(n*log n); O(n^2); O(n!)."
   ]
  },
  {
   "cell_type": "markdown",
   "metadata": {},
   "source": [
    "A rapidez de um algoritmo não é medida em segundos mas pelo crescimento do numero de operações. "
   ]
  },
  {
   "cell_type": "markdown",
   "metadata": {},
   "source": [
    "Exercicios. Forneça o tempo de execução para cada um dos casos a seguir em notação Big O. "
   ]
  },
  {
   "cell_type": "markdown",
   "metadata": {},
   "source": [
    "1 - Voce tem um nome e deseja encontrar o numero de telefone para esse nome em uma agenda telefonica. Resposta: O(log n)"
   ]
  },
  {
   "cell_type": "markdown",
   "metadata": {},
   "source": [
    "2 - Voce tem um numero de telefone e deseja encontrar o dono dele em uma agenda telefonica. (Dica: deve procurar pela agenda inteira). Resposta: O(n)"
   ]
  },
  {
   "cell_type": "markdown",
   "metadata": {},
   "source": [
    "3 - Voce quer ler o numero de cada pessoa da agenda telefonica. Resposta: O (n)"
   ]
  },
  {
   "cell_type": "markdown",
   "metadata": {},
   "source": [
    "4 - Voce quer ler os numeros apenas dos nomes que comecam com A. Resposta: O(n). Olhar cap 4 para entender essa."
   ]
  },
  {
   "cell_type": "markdown",
   "metadata": {},
   "source": [
    "### O caixeiro viajante"
   ]
  },
  {
   "cell_type": "markdown",
   "metadata": {},
   "source": [
    "Problema meio sem solução. O tempo de execução é O(n!) e portando, como o crescimento é fatorial, o tempo aumenta dramasticamente. Mas até agora não existe um algoritmo mais rapido para resolver esse problema."
   ]
  }
 ],
 "metadata": {
  "kernelspec": {
   "display_name": "Python 3",
   "language": "python",
   "name": "python3"
  },
  "language_info": {
   "codemirror_mode": {
    "name": "ipython",
    "version": 3
   },
   "file_extension": ".py",
   "mimetype": "text/x-python",
   "name": "python",
   "nbconvert_exporter": "python",
   "pygments_lexer": "ipython3",
   "version": "3.7.4"
  }
 },
 "nbformat": 4,
 "nbformat_minor": 2
}
